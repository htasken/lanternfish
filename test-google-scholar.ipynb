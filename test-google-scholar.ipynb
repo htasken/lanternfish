{
 "cells": [
  {
   "cell_type": "code",
   "execution_count": 7,
   "id": "b2cdbe06",
   "metadata": {},
   "outputs": [],
   "source": [
    "import os\n",
    "from dotenv import load_dotenv\n",
    "from langchain_community.tools.google_scholar import GoogleScholarQueryRun\n",
    "from langchain_community.utilities.google_scholar import GoogleScholarAPIWrapper"
   ]
  },
  {
   "cell_type": "code",
   "execution_count": null,
   "id": "6412324c",
   "metadata": {},
   "outputs": [
    {
     "name": "stdout",
     "output_type": "stream",
     "text": [
      "API key (hidden): 34897...\n"
     ]
    }
   ],
   "source": [
    "# Load SERP_API_KEY from the local .env\n",
    "load_dotenv()\n",
    "print(\"API key (hidden):\", os.getenv(\"SERP_API_KEY\")[:5] + \"...\")"
   ]
  },
  {
   "cell_type": "code",
   "execution_count": 11,
   "id": "7cb830c6",
   "metadata": {},
   "outputs": [
    {
     "data": {
      "text/plain": [
       "'Title: Bayesian nonparametrics\\nAuthors: NL Hjort,C Holmes,P Müller\\nSummary: NL Hjort, C Holmes, P Müller, SG Walker - 2010 - books.google.com\\nTotal-Citations: 848\\n\\nTitle: A tutorial on Bayesian nonparametric models\\nAuthors: SJ Gershman,DM Blei\\nSummary: SJ Gershman, DM Blei - Journal of Mathematical Psychology, 2012 - Elsevier\\nTotal-Citations: 767\\n\\nTitle: Bayesian nonparametric models.\\nAuthors: P Orbanz,YW Teh\\nSummary: P Orbanz, YW Teh - Encyclopedia of machine learning, 2010 - sites.socsci.uci.edu\\nTotal-Citations: 330\\n\\nTitle: Bayesian nonparametric data analysis\\nAuthors: P Müller,FA Quintana,A Jara\\nSummary: P Müller, FA Quintana, A Jara, T Hanson - 2015 - Springer\\nTotal-Citations: 327\\n\\nTitle: Hierarchical Bayesian nonparametric models with applications\\nAuthors: YW Teh,MI Jordan\\nSummary: YW Teh, MI Jordan - Bayesian nonparametrics, 2010 - books.google.com\\nTotal-Citations: 504\\n\\nTitle: Bayesian nonparametric inference–why and how\\nAuthors: P Müller\\nSummary: P Müller, R Mitra - Bayesian analysis (Online), 2013 - pmc.ncbi.nlm.nih.gov\\nTotal-Citations: 177\\n\\nTitle: A Bayesian nonparametric approach to reliability\\nAuthors: \\nSummary: RL Dykstra, P Laud - The Annals of Statistics, 1981 - JSTOR\\nTotal-Citations: 334\\n\\nTitle: A survey on Bayesian nonparametric learning\\nAuthors: J Xuan,J Lu\\nSummary: J Xuan, J Lu, G Zhang - ACM Computing Surveys (CSUR), 2019 - dl.acm.org\\nTotal-Citations: 30\\n\\nTitle: Nonparametric Bayes applications to biostatistics\\nAuthors: DB Dunson\\nSummary: DB Dunson - Bayesian nonparametrics, 2010 - books.google.com\\nTotal-Citations: 163\\n\\nTitle: Bayesian nonparametric modeling for causal inference\\nAuthors: JL Hill\\nSummary: JL Hill - Journal of Computational and Graphical Statistics, 2011 - Taylor & Francis\\nTotal-Citations: 1852'"
      ]
     },
     "execution_count": 11,
     "metadata": {},
     "output_type": "execute_result"
    }
   ],
   "source": [
    "# Be careful: SERP free plan allows 100 searches per month\n",
    "tool = GoogleScholarQueryRun(api_wrapper=GoogleScholarAPIWrapper())\n",
    "tool.run(\"Bayesian Nonparametrics\")"
   ]
  }
 ],
 "metadata": {
  "kernelspec": {
   "display_name": "serp_env",
   "language": "python",
   "name": "python3"
  },
  "language_info": {
   "codemirror_mode": {
    "name": "ipython",
    "version": 3
   },
   "file_extension": ".py",
   "mimetype": "text/x-python",
   "name": "python",
   "nbconvert_exporter": "python",
   "pygments_lexer": "ipython3",
   "version": "3.10.16"
  }
 },
 "nbformat": 4,
 "nbformat_minor": 5
}
